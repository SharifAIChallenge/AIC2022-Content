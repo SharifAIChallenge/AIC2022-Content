{
 "cells": [
  {
   "cell_type": "markdown",
   "id": "f10f07d0",
   "metadata": {},
   "source": [
    "![head](./images/head.png)"
   ]
  },
  {
   "cell_type": "markdown",
   "id": "c1c93771",
   "metadata": {},
   "source": [
    "<div id=\"sec_intro\" style=\"direction:rtl;line-height:300%;\">\n",
    "\t<font face=\"XB Zar\" size=6 color=\"blue\">\n",
    "گراف چیست؟\n",
    "    </font>\n",
    "</div> "
   ]
  },
  {
   "cell_type": "markdown",
   "id": "747f9eeb",
   "metadata": {},
   "source": [
    "<div id=\"sec_intro\" style=\"direction:rtl;line-height:300%;\">\n",
    "\t<font face=\"XB Zar\" size=4>\n",
    "فرض کنید نقشه یک شهر به شما داده شده است و سپس از شما خواسته می‌شود مسیری بین این دو نقطه از شهر پیدا کنید. این کار به خودی خود کار پیچیده ای به نظر نمی آید. حال اگر از شما خواسته شود این کار را به کمک برنامه نویسی انجام دهید دیگر مسئله به آسانی قبل نیست. در حقیقت شما نیاز به مدلی دارید که مسئله را به خوبی مدل کند و در کنار آن، پیچیده هم نباشد و بتوان به آسادگی آن را پیاده‌سازی کرد. یک مدل خوب برای این مسئله گراف است. در ادامه با گراف آشنا خواهیم شد.\n",
    "     </font>\n",
    "</div>\n",
    "\n"
   ]
  },
  {
   "cell_type": "markdown",
   "id": "dbe036fb",
   "metadata": {},
   "source": [
    "![Figure-3-2-Representing-roads-map-into-a-graph.png](./images/Figure-3-2-Representing-roads-map-into-a-graph.png)"
   ]
  },
  {
   "cell_type": "markdown",
   "id": "1088dcfd",
   "metadata": {},
   "source": [
    "<div id=\"sec_intro\" style=\"direction:rtl;line-height:300%;\">\n",
    "\t<font face=\"XB Zar\" size=6 color=\"blue\">\n",
    "آشنایی با گراف\n",
    "    </font>\n",
    "</div> "
   ]
  },
  {
   "cell_type": "markdown",
   "id": "5437c097",
   "metadata": {},
   "source": [
    "<div id=\"sec_intro\" style=\"direction:rtl;line-height:300%;\">\n",
    "\t<font face=\"XB Zar\" size=4>\n",
    " گراف مجموعه ای از رئوس(نقاط) و یال ها(خطوط وصل کننده رئوس است). هر یال دو راس از گراف را به هم وصل میکند. عکس زیر یک گراف ۹ راسی و ۱۴ یالی را نمایش می دهد. \n",
    "     </font>\n",
    "</div>\n"
   ]
  },
  {
   "cell_type": "markdown",
   "id": "68d79bfc",
   "metadata": {},
   "source": [
    "![network-diagram-nodes-edges.png](./images/network-diagram-nodes-edges.png)"
   ]
  },
  {
   "cell_type": "markdown",
   "id": "ae9d3e24",
   "metadata": {},
   "source": [
    "<div id=\"sec_intro\" style=\"direction:rtl;line-height:300%;\">\n",
    "\t<font face=\"XB Zar\" size=6 color=\"blue\">\n",
    "چند تعریف\n",
    "    </font>\n",
    "</div> "
   ]
  },
  {
   "cell_type": "markdown",
   "id": "973e621a",
   "metadata": {},
   "source": [
    "<div id=\"sec_intro\" style=\"direction:rtl;line-height:300%;\">\n",
    "\t<font face=\"XB Zar\" size=4>\n",
    "\n",
    "<br> \n",
    "        <b>\n",
    "            گراف جهت‌دار:\n",
    "        </b>\n",
    "        گرافی که یال های آن جهت داشته باشند. به این معنی که وقتی $A$ به $B$ یال دارد از طریق آن یال فقط میتوان بهB رفت و از طریق آن نمیتوان از $B$ به $A$ رفت.\n",
    "</br>\n",
    "<br> \n",
    "        <b>\n",
    "            گراف وزن‌دار:\n",
    "        </b>\n",
    "        گرافی که یال های آن وزن داشته باشند.\n",
    "</br>\n",
    "<br> \n",
    "        <b>\n",
    "            طوقه:\n",
    "        </b>\n",
    "        یالی که یک راس را به خودش متصل کند.\n",
    "</br>\n",
    "<br> \n",
    "        <b>\n",
    "            گراف ساده:\n",
    "        </b>\n",
    "        گرافی که طوقه و یال چندگانه نداشته باشد.\n",
    "</br>\n",
    "\n",
    "</div>"
   ]
  },
  {
   "cell_type": "markdown",
   "id": "04965f1e",
   "metadata": {},
   "source": [
    "<div id=\"sec_intro\" style=\"direction:rtl;line-height:300%;\">\n",
    "\t<font face=\"XB Zar\" size=6 color=\"blue\">\n",
    "نگهداری گراف\n",
    "    </font>\n",
    "</div> "
   ]
  },
  {
   "cell_type": "markdown",
   "id": "12b53951",
   "metadata": {},
   "source": [
    "<div dir=\"rtl\" align= \"justify\">\n",
    "    <font face=\"calibri\" size=4>\n",
    "\n",
    "<br>\n",
    "     گراف را به دو شکل می توان در حافظه نگه داشت.\n",
    "        <b>ماتریس مجاورت </b>\n",
    "            و\n",
    "        <b>لیست مجاورت </b>\n",
    "        </br>\n",
    "<br>\n",
    "    <b> ماتریس مجاورت </b>\n",
    "    : اگر گرافمان $n$ راسی باشد ماتریس مجاورت یک ماتریس $n*n$ است مانند $A$ که در آن $A_{ij}$ برابر وزن یال بین دو راس $i$ و $j$ در گراف است و اگر بینشان یال نباشد ۰ است.\n",
    "</br>\n",
    "<br>\n",
    "<b> لیست مجاورت:</b>\n",
    "در روش لیست مجاورت برای هر راس لیستی از رئوسی که به آنها یال دارد نگهداری می‌شود.\n",
    "</br>\n",
    "<br>\n",
    "در شکل زیر میتوانید لیست مجاورت و ماتریس مجاورت را برای گراف داده شده ببینید.\n",
    "</br>\n",
    "</div>"
   ]
  },
  {
   "cell_type": "markdown",
   "id": "a0aa9bd6",
   "metadata": {},
   "source": [
    "![Fig-3-i-Digraph-G-ii-Adjacency-Matrix-of-G-iii-Adjacency-List-of-G-Considering-an.jpeg](./images/Fig-3-i-Digraph-G-ii-Adjacency-Matrix-of-G-iii-Adjacency-List-of-G-Considering-an.jpeg)"
   ]
  }
 ],
 "metadata": {
  "kernelspec": {
   "display_name": "Python 3 (ipykernel)",
   "language": "python",
   "name": "python3"
  },
  "language_info": {
   "codemirror_mode": {
    "name": "ipython",
    "version": 3
   },
   "file_extension": ".py",
   "mimetype": "text/x-python",
   "name": "python",
   "nbconvert_exporter": "python",
   "pygments_lexer": "ipython3",
   "version": "3.10.4"
  }
 },
 "nbformat": 4,
 "nbformat_minor": 5
}
