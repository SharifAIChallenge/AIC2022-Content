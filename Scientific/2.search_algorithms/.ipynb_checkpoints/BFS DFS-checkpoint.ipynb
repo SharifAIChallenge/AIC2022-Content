{
 "cells": [
  {
   "cell_type": "markdown",
   "id": "a3f825d0",
   "metadata": {},
   "source": [
    "![head](./images/head.png)"
   ]
  },
  {
   "cell_type": "markdown",
   "id": "cffaaff1",
   "metadata": {},
   "source": [
    "<div id=\"sec_intro\" style=\"direction:rtl;line-height:300%;\">\n",
    "\t<font face=\"XB Zar\" size=6 color=\"blue\">\n",
    "الگوریتم‌های جست و جو\n",
    "    </font>\n",
    "</div>  "
   ]
  },
  {
   "cell_type": "markdown",
   "id": "19643b62",
   "metadata": {},
   "source": [
    "<div id=\"sec_intro\" style=\"direction:rtl;line-height:300%;\">\n",
    "\t<font face=\"XB Zar\" size=4>\n",
    "انواع الگوریتم‌های جست و جوی گراف، با پیمایش رئوس یک گراف همبند به جست و جوی یک رأس مشخص می‌پردازند. پیمایش گراف به این معنی است که از یک راس گراف شروع به حرکت کنیم و تمام رئوسی از گراف را که به راس آغازین متصل بوده اند بررسی (visit) کنیم. برای مثال مسئله پیدا کردن مسیر در ماز را در نظر بگیرید. همانطور که در شکل زیر مشاهده می‌شود، با مدلسازی ماز به صورت گراف، اگر بتوانیم مسیری از راس ورودی به راس خروجی ماز پیدا کنیم می‌توانیم آن را حل کنیم.\n",
    "    </font>\n",
    "</div>       "
   ]
  },
  {
   "cell_type": "markdown",
   "id": "c3e05580",
   "metadata": {},
   "source": [
    "<div id=\"sec_t1\" style=\"direction:rtl;line-height:300%;\">\n",
    "        <img src=\"./images/TheSolution.jpeg\" style=\"float:center; width:60%\"/>\n",
    "</div>"
   ]
  },
  {
   "cell_type": "markdown",
   "id": "29caec5e",
   "metadata": {},
   "source": [
    "<div id=\"sec_intro\" style=\"direction:rtl;line-height:300%;\">\n",
    "\t<font face=\"XB Zar\" size=4>\n",
    " برای این کار الگوریتم‌های مختلفی وجود دارند که اگرچه تضمین می‌شود راس مورد نظر را در صورت همبند بودن گراف پیدا کنند، اما تضمینی برای بهینه بودن زمان جست و جو به ازای تمامی رئوس در آن‌ها وجود ندارد. از این الگوریتم‌های پایه‌ای در حل بسیاری مسائل پیچیده‌تر گراف استفاده می‌شود. در ادامه به بررسی دو تا از اصلی‌ترین الگوریتم‌های جست و جو در گراف می‌پردازیم.\n",
    "    </font>\n",
    "</div>       "
   ]
  },
  {
   "cell_type": "markdown",
   "id": "ffb4b8de",
   "metadata": {},
   "source": [
    "<div id=\"sec_intro\" style=\"direction:rtl;line-height:300%;\">\n",
    "\t<font face=\"XB Zar\" size=6 color=\"blue\">\n",
    "الگوریتم جست و جوی عمق اول (DFS)\n",
    "    </font>\n",
    "</div>  "
   ]
  },
  {
   "cell_type": "markdown",
   "id": "7e5392d2",
   "metadata": {},
   "source": [
    "<div id=\"sec_intro\" style=\"direction:rtl;line-height:300%;\">\n",
    "\t<font face=\"XB Zar\" size=4>\n",
    "در این الگوریتم با شروع از یک رأس که آن را ریشه می‌نامیم، جست و جو آغاز می‌شود. در هر مرحله اگر روی رأس v قرار داشته باشیم و در طی مسیر از ریشه به v، مجموعه رئوس S دیده شده باشند (اصطلاحاً visit شده باشند)، اگر v همسایه‌ای مانند u داشته باشد که تا به حال دیده نشده باشد، آن را به S اضافه کرده و به u می‌رویم. بنابراین در مرحله بعد، این u، همان v جدید ما خواهد بود. اگر هم در مرحله‌ای v هیچ همسایه دیده نشده‌ای نداشت (تمام همسایه‌های آن در S بودند)، به رأسی برمی‌گردیم که از آن به v آمده بودیم. در صورتی که هدف از اجرای الگوریتم پیدا کردن یک رأس خاص باشد، می‌توان در هر مرحله از الگوریتم که v برابر با رأس مورد جست و جو شد، الگوریتم را متوقف کرده و مسیر منتهی به v را به عنوان خروجی برگرداند.\n",
    "<br>\n",
    "توجه داشته باشید فرض شده ترتیب پیمایش همسایه‌های یک راس، به ترتیب شماره‌هایشان به طور صعودی است. \n",
    "<br><br>\n",
    "در ادامه نحوه پیمایش یک گراف ساده توسط این الگوریتم نشان داده شده است. در این مثال، رأس قرمز رأس فعلی است، رئوس سبز رئوسی هستند که تا به حال به آن‌ها نرسیده ایم، و رئوس زرد رئوس دیده شده اند که در S قرار دارند. \n",
    "    </font>\n",
    "</div>  "
   ]
  },
  {
   "cell_type": "markdown",
   "id": "a71fbae3",
   "metadata": {},
   "source": [
    "<div id=\"sec_t1\" style=\"direction:rtl;line-height:300%;\">\n",
    "        <img src=\"./images/ezgif.com-gif-maker61.gif\" style=\"float:center; width:40%\"/>\n",
    "</div>"
   ]
  },
  {
   "cell_type": "markdown",
   "id": "8b091a75",
   "metadata": {},
   "source": [
    "<div id=\"sec_intro\" style=\"direction:rtl;line-height:300%;\">\n",
    "\t<font face=\"XB Zar\" size=4>\n",
    "برای مثال در این گراف مسیر منتهی به رأس 3 با شروع از راس 1 به این صورت خواهد بود:\n",
    "    </font>\n",
    "</div>      \n",
    "<div id=\"sec_intro\" style=\"direction:ltr;line-height:300%;\">\n",
    "\t<font face=\"XB Zar\" size=4>\n",
    "1 $-$> 2 $-$> 0 $-$> 2 $-$> 3\n",
    "    </font>\n",
    "</div>   "
   ]
  },
  {
   "cell_type": "markdown",
   "id": "938421ae",
   "metadata": {},
   "source": [
    "<div id=\"sec_intro\" style=\"direction:rtl;line-height:300%;\">\n",
    "\t<font face=\"XB Zar\" size=4>\n",
    "در ادامه شبه کدی برای الگوریتم DFS آورده شده است. مشخصه visited برای هر راس نشان‌دهنده آن است که آیا این راس تا به حال دیده شده و در S قرار دارد یا نه. همچنین G.Adj[v] لیست تمام همسایه‌های راس v در گراف G است.\n",
    "    </font>\n",
    "</div> "
   ]
  },
  {
   "cell_type": "markdown",
   "id": "557d727c",
   "metadata": {},
   "source": [
    "<div id=\"sec_intro\" style=\"direction:ltr;line-height:200%;\">\n",
    "\t<font face=\"XB Zar\" size=4>\n",
    "        <pre>\n",
    "DFS(G, v)\n",
    "    v.visited = true\n",
    "    for each u ∈ G.Adj[v]\n",
    "        if u.visited == false\n",
    "            DFS(G,u)\n",
    "        </pre>\n",
    "    </font>\n",
    "</div>  "
   ]
  },
  {
   "cell_type": "markdown",
   "id": "cafd7672",
   "metadata": {},
   "source": [
    "<div id=\"sec_intro\" style=\"direction:rtl;line-height:300%;\">\n",
    "\t<font face=\"XB Zar\" size=6 color=\"blue\">\n",
    "الگوریتم جست و جوی سطح اول (BFS)\n",
    "    </font>\n",
    "</div>  "
   ]
  },
  {
   "cell_type": "markdown",
   "id": "9e5f3d22",
   "metadata": {},
   "source": [
    "<div id=\"sec_intro\" style=\"direction:rtl;line-height:300%;\">\n",
    "\t<font face=\"XB Zar\" size=4>\n",
    "        در این الگوریتم از یک صف برای پیدا کردن مسیر استفاده می‌شود. در ابتدا با وارد کردن رأس ریشه به صف پردازش را شروع می‌کنیم. سپس در هر مرحله اگر روی رأس v قرار داشته باشیم و در طی مسیر از ریشه به v، مجموعه رئوس S دیده شده باشند (اصطلاحاً visit شده باشند)، تمام همسایه‌های v را که تا به حال دیده نشده اند و در صف هم نیستند به صف وارد می‌کنیم. سپس راس v را از صف خارج کرده و راسی را که در ابتدای صف قرار می‌گیرد به عنوان v جدید در نظر می‌گیریم. به این ترتیب v همواره عنصر ابتدای صف خواهد بود. در صورتی که هدف از اجرای الگوریتم پیدا کردن یک رأس خاص باشد، می‌توان در هر مرحله از الگوریتم که v برابر با رأس مورد جست و جو شد، الگوریتم را متوقف کرده و مسیر منتهی به v را به عنوان خروجی برگرداند.\n",
    "    </font>\n",
    "</div>  "
   ]
  },
  {
   "cell_type": "markdown",
   "id": "33e46cdd",
   "metadata": {},
   "source": [
    "<div id=\"sec_intro\" style=\"direction:rtl;line-height:300%;\">\n",
    "\t<font face=\"XB Zar\" size=4>\n",
    "برای درک بهتر این الگوریتم، به مثال زیر توجه کنید. در این مثال رنگ نارنجی نشان‌دهنده رأس دیده‌شده،‌ رنگ سبز نشان‌دهنده رأس دیده‌نشده داخل صف، و رنگ سفید نشانه رأسی است که تا به حال وارد صف نشده است. وضعیت صف در هر مرحله نیز در پایین شکل قابل مشاهده است.\n",
    "    </font>\n",
    "</div>  "
   ]
  },
  {
   "cell_type": "markdown",
   "id": "3901637a",
   "metadata": {},
   "source": [
    "<div id=\"sec_t1\" style=\"direction:rtl;line-height:300%;\">\n",
    "        <img src=\"./images/ezgif-5-05322e86e4.gif\" style=\"float:center; width:35%\"/>\n",
    "</div>"
   ]
  },
  {
   "cell_type": "markdown",
   "id": "737b525c",
   "metadata": {},
   "source": [
    "<div id=\"sec_intro\" style=\"direction:rtl;line-height:300%;\">\n",
    "\t<font face=\"XB Zar\" size=4>\n",
    "همانطور که مشاهده می‌شود، ترتیب دیده‌شدن رئوس در این الگوریتم رابطه مستقیمی با فاصله آن‌ها از ریشه دارد. به این معنی که اول ریشه دیده می‌شود، بعد همسایه‌های ریشه، بعد همسایه‌های همسایه‌های ریشه و به همین ترتیب. این خاصیت به علت استفاده از صف ایجاد می‌شود و می‌تواند در مواردی، زمان مورد نیاز برای جست و جو را نسبت به الگوریتم DFS کاهش دهد. \n",
    "    </font>\n",
    "</div>  "
   ]
  },
  {
   "cell_type": "markdown",
   "id": "a6804a45",
   "metadata": {},
   "source": [
    "<div id=\"sec_intro\" style=\"direction:rtl;line-height:300%;\">\n",
    "\t<font face=\"XB Zar\" size=4>\n",
    "در ادامه شبه کدی از الگوریتم BFS را می‌بینیم. مشخصه visited برای هر راس نشان‌دهنده آن است که آیا این راس تا به حال دیده شده و در S قرار دارد یا نه.همچنین root همان رأس ریشه بوده و G.Adj[v] لیست تمام همسایه‌های راس v در گراف G است.    </font>\n",
    "</div>  "
   ]
  },
  {
   "cell_type": "markdown",
   "id": "7d75c84f",
   "metadata": {},
   "source": [
    "<div id=\"sec_intro\" style=\"direction:ltr;line-height:200%;\">\n",
    "\t<font face=\"XB Zar\" size=4>\n",
    "        <pre>\n",
    "BFS (G, root)                  \n",
    "\tQ.enqueue(root)\n",
    "    root.visited = true\n",
    "    while (Q is not empty)\n",
    "\t\tv  =  Q.dequeue()\n",
    "\t\tfor each u ∈ G.Adj[v]\n",
    "\t\t\tif u.visited == false \n",
    "\t\t\t\tQ.enqueue(u)\n",
    "                u.visited = true\n",
    "        </pre>\n",
    "    </font>\n",
    "</div>  "
   ]
  },
  {
   "cell_type": "markdown",
   "id": "9584ccb7",
   "metadata": {},
   "source": [
    "<br><br>"
   ]
  },
  {
   "cell_type": "markdown",
   "id": "b0396c93",
   "metadata": {},
   "source": [
    "<div id=\"sec_intro\" style=\"direction:rtl;line-height:300%;\">\n",
    "\t<font face=\"XB Zar\" size=4>\n",
    "دقت کنید از آنجایی که در دو الگوریتم بالا برای رسیدن به هر راس، نیاز به یالی بین آن رأس و یکی از رئوسی است که از قبل در S بوده اند، این الگوریتم‌ها پیمایش و جست و جو را در یک گراف همبند انجام می‌دهند و در صورتی که گراف ناهمبند باشد، با یک بار اجرای آن نمی‌توان کل گراف را پیمایش کرد.\n",
    "        <br>\n",
    "در قسمت زیر می‌توانید خودتان کد پایتون شبه‌کدهای بالا را بنویسید.\n",
    "    </font>\n",
    "</div>  "
   ]
  },
  {
   "cell_type": "code",
   "execution_count": 1,
   "id": "e761846e",
   "metadata": {},
   "outputs": [],
   "source": [
    "### your code goes here"
   ]
  },
  {
   "cell_type": "markdown",
   "id": "c8cf1aa4",
   "metadata": {},
   "source": [
    "<div id=\"sec_intro\" style=\"direction:rtl;line-height:300%;\">\n",
    "\t<font face=\"XB Zar\" size=4>\n",
    "حالا که با این دو الگوریتم آشنا شدیم، به مثال اول برگردیم و سعی کنیم با استفاده از این الگوریتم‌ها، مسیری را در آن گراف از راس ۱ به ۹ پیدا کنیم تا به این وسیله بتوانیم ماز را حل کنیم. با استفاده از الگوریتم DFS، ترتیب پیمایش راس‌ها تا رسیدن به راس شماره ۹، به صورت زیر خواهد بود: \n",
    "    </font>\n",
    "</div>  "
   ]
  },
  {
   "cell_type": "markdown",
   "id": "632e289f",
   "metadata": {},
   "source": [
    "<div id=\"sec_intro\" style=\"direction:ltr;line-height:300%;\">\n",
    "\t<font face=\"XB Zar\" size=4>\n",
    "1 $-$> 2 $-$> 5 $-$> 6 $-$> 3 $-$> 4 $-$> 7 $-$> 9\n",
    "    </font>\n",
    "</div>   "
   ]
  },
  {
   "cell_type": "markdown",
   "id": "049562f8",
   "metadata": {},
   "source": [
    "<div id=\"sec_intro\" style=\"direction:rtl;line-height:300%;\">\n",
    "\t<font face=\"XB Zar\" size=4>\n",
    "و در صورت استفاده از الگوریتم BFS، مسیر زیر طی خواهد شد:    </font>\n",
    "</div>  "
   ]
  },
  {
   "cell_type": "markdown",
   "id": "f91886ac",
   "metadata": {},
   "source": [
    "<div id=\"sec_intro\" style=\"direction:ltr;line-height:300%;\">\n",
    "\t<font face=\"XB Zar\" size=4>\n",
    "1 $-$> 2 $-$> 3 $-$> 4 $-$> 5 $-$> 6 $-$> 7 $-$> 8 $-$> 9\n",
    "    </font>\n",
    "</div>   "
   ]
  },
  {
   "cell_type": "markdown",
   "id": "0f6c3c64",
   "metadata": {},
   "source": [
    "<div id=\"sec_intro\" style=\"direction:rtl;line-height:300%;\">\n",
    "\t<font face=\"XB Zar\" size=4>\n",
    "همانطور که دیده می‌شود، در این مثال خاص، الگوریتم DFS سریع‌تر از BFS به جواب می‌رسد.    </font>\n",
    "</div>  "
   ]
  }
 ],
 "metadata": {
  "kernelspec": {
   "display_name": "Python 3 (ipykernel)",
   "language": "python",
   "name": "python3"
  },
  "language_info": {
   "codemirror_mode": {
    "name": "ipython",
    "version": 3
   },
   "file_extension": ".py",
   "mimetype": "text/x-python",
   "name": "python",
   "nbconvert_exporter": "python",
   "pygments_lexer": "ipython3",
   "version": "3.10.4"
  }
 },
 "nbformat": 4,
 "nbformat_minor": 5
}
