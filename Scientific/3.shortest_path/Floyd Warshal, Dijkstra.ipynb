{
 "cells": [
  {
   "cell_type": "markdown",
   "id": "72478df7",
   "metadata": {},
   "source": [
    "![head](./images/head.png)"
   ]
  },
  {
   "cell_type": "markdown",
   "id": "dc8195f9",
   "metadata": {},
   "source": [
    "<div id=\"sec_intro\" style=\"direction:rtl;line-height:300%;\">\n",
    "\t<font face=\"XB Zar\" size=6 color=\"blue\">\n",
    "الگوریتم‌های پیدا کردن کوتاه‌ترین مسیر\n",
    "    </font>\n",
    "</div>  "
   ]
  },
  {
   "cell_type": "markdown",
   "id": "19643b62",
   "metadata": {},
   "source": [
    "<div id=\"sec_intro\" style=\"direction:rtl;line-height:300%;\">\n",
    "\t<font face=\"XB Zar\" size=4>\n",
    "در قسمت قبل با الگوریتم‌های جست و جو در گراف‌ها آشنا شدیم. مشخص است که برای گراف‌های بدون وزن، صرفا با اعمال یک الگوریتم جست و جو و نگه‌داری یک راس مبدا برای هر راس (یعنی همسایه‌ای از آن راس که اولین بار از طریقش به این راس رسیده‌ایم)، می‌توان یک مسیر بین دو راس داده شده را پیدا کرد. اما در گراف‌های وزن‌دار، گاهی نیاز داریم مطمئن باشیم مسیری که بین این دو راس پیدا کرده ایم، کوتاه‌ترین مسیر موجود در گراف بوده است، تا از این طریق، هزینه‌های مورد نیاز برای طی کردن این مسیر را به حداقل برسانیم. در این گونه مسائل، نیاز به الگوریتم‌های پیچیده‌تری برای پیدا کردن کوتاه‌ترین مسیر خواهد بود.\n",
    "<br>\n",
    "برای مثال، گراف زیر را در نظر بگیرید:\n",
    "    </font>\n",
    "</div>       "
   ]
  },
  {
   "cell_type": "markdown",
   "id": "8388fdee",
   "metadata": {},
   "source": [
    "<div id=\"sec_t1\" style=\"direction:rtl;line-height:300%;\">\n",
    "        <img src=\"./images/weight01.gif\" style=\"float:center\"/>\n",
    "</div>"
   ]
  },
  {
   "cell_type": "markdown",
   "id": "19c3ad31",
   "metadata": {},
   "source": [
    "<div id=\"sec_intro\" style=\"direction:rtl;line-height:300%;\">\n",
    "\t<font face=\"XB Zar\" size=4>\n",
    "در صورت استفاده از الگوریتم DFS در این گراف، مسیر طی شده بین راس ۱ تا ۲ به صورت زیر خواهد بود:\n",
    "    </font>\n",
    "</div>       "
   ]
  },
  {
   "cell_type": "markdown",
   "id": "8b091a75",
   "metadata": {},
   "source": [
    "<div id=\"sec_intro\" style=\"direction:ltr;line-height:300%;\">\n",
    "\t<font face=\"XB Zar\" size=4>\n",
    "1 $-$> 0 $-$> 3 $-$> 2\n",
    "    </font>\n",
    "</div>   "
   ]
  },
  {
   "cell_type": "markdown",
   "id": "b0688dbf",
   "metadata": {},
   "source": [
    "<div id=\"sec_intro\" style=\"direction:rtl;line-height:300%;\">\n",
    "\t<font face=\"XB Zar\" size=4>\n",
    "که مجموع وزن یال‌های این مسیر، ۱۱ است. اما اگر از مسیر دیگری، برای مثال مسیر زیر:    </font>\n",
    "</div>       "
   ]
  },
  {
   "cell_type": "markdown",
   "id": "77a62b8f",
   "metadata": {},
   "source": [
    "<div id=\"sec_intro\" style=\"direction:ltr;line-height:300%;\">\n",
    "\t<font face=\"XB Zar\" size=4>\n",
    "1 $-$> 7 $-$> 2\n",
    "    </font>\n",
    "</div>   "
   ]
  },
  {
   "cell_type": "markdown",
   "id": "463a7387",
   "metadata": {},
   "source": [
    "<div id=\"sec_intro\" style=\"direction:rtl;line-height:300%;\">\n",
    "\t<font face=\"XB Zar\" size=4>\n",
    "استفاده می‌کردیم، وزن این مسیر به ۶ کاهش می‌یافت. بنابراین الگوریتم‌های ذکر شده در این موارد نمی‌توانند تضمینی بر پیدا شدن کوتاه‌ترین مسیر بدهند. یکی از الگوریتم‌های قابل استفاده برای حل این دست مسائل، الگوریتم دایکسترا است.\n",
    "    </font>\n",
    "</div>       "
   ]
  },
  {
   "cell_type": "markdown",
   "id": "87e6fac6",
   "metadata": {},
   "source": [
    "<div id=\"sec_intro\" style=\"direction:rtl;line-height:300%;\">\n",
    "\t<font face=\"XB Zar\" size=6 color=\"blue\">\n",
    "الگوریتم دایکسترا (Dijkstra): \n",
    "    </font>\n",
    "</div>  "
   ]
  },
  {
   "cell_type": "markdown",
   "id": "b67497ac",
   "metadata": {},
   "source": [
    "<div id=\"sec_intro\" style=\"direction:rtl;line-height:300%;\">\n",
    "\t<font face=\"XB Zar\" size=4>\n",
    "این الگوریتم برای پیدا کردن کوتاه‌ترین مسیر موجود بین هر دو راسی از گراف وزن‌داری که وزن یال‌های آن مثبت باشد مورد استفاده قرار می‌گیرد. طول هر مسیر برابر با مجموع وزن یال‌های آن است.\n",
    "    </font>\n",
    "</div>       "
   ]
  },
  {
   "cell_type": "markdown",
   "id": "d477a0bd",
   "metadata": {},
   "source": [
    "<div id=\"sec_intro\" style=\"direction:rtl;line-height:300%;\">\n",
    "\t<font face=\"XB Zar\" size=4>\n",
    "ابتدا آرایه $dist$ را تعریف کرده و تمام مقادیر آن را $\\infty$ قرار می‌دهیم. هر خانه این آرایه نشان‌دهندهٔ فاصلهٔ یک راس از مبدا است که در طول الگوریتم آن را تعیین خواهیم کرد. بنابراین اگر راس مبدا را v در نظر بگیریم، مقدار $dist(v)$ را در ابتدا 0 قرار می‌دهیم. در ادامه، مجموعهٔ S را تعریف کرده و در ابتدا تنها عضو آن را v می‌گذاریم. این مجموعه نشان‌گر راس‌هایی خواهد بود که تا اینجای الگوریتم، کوتاه‌ترین مسیر به آن‌ها پیدا شده است. این الگوریتم در هر مرحله، نزدیک‌ترین راس (راس با کمترین $dist$) به v (راس مبدا) را که تا به حال به S اضافه نشده بوده انتخاب کرده (این راس را s می‌نامیم)، آن را به S اضافه می‌کند و سپس فاصله بقیه راس‌های خارج S که همسایهٔ s هستند را با توجه به این تغییر، طبق رابطه زیر به روز می‌کند، که در آن w(s,u) نشان‌گر وزن یال بین راس‌های s و u است.\n",
    "    </font>\n",
    "</div>       "
   ]
  },
  {
   "cell_type": "markdown",
   "id": "e9cf1391",
   "metadata": {},
   "source": [
    "<div id=\"sec_intro\" style=\"line-height:300%;\">\n",
    "\t<font face=\"XB Zar\" size=4>\n",
    "$dist(u)=min(dist(u),dist(s)+w(s,u))$\n",
    "    </font>\n",
    "</div>       "
   ]
  },
  {
   "cell_type": "markdown",
   "id": "70cc8e07",
   "metadata": {},
   "source": [
    "<div id=\"sec_intro\" style=\"direction:rtl;line-height:300%;\">\n",
    "\t<font face=\"XB Zar\" size=4>\n",
    "به عبارت دیگر، به ازای هر راسی که تا اینجا کمترین فاصله ممکنش تا v مشخص نشده بوده، اگر مسیر منتهی به این راس که از s می‌گذرد کوتاه‌تر از مسیر قبلی آن باشد، مسیر بهینه را به این مسیر تغییر می‌دهد.\n",
    "    </font>\n",
    "</div>       "
   ]
  },
  {
   "cell_type": "markdown",
   "id": "d3cb22e2",
   "metadata": {},
   "source": [
    "<div id=\"sec_intro\" style=\"direction:rtl;line-height:300%;\">\n",
    "\t<font face=\"XB Zar\" size=4>\n",
    "یک نمونه از پیاده‌سازی این الگوریتم را در زیر مشاهده می‌کنید:\n",
    "    </font>\n",
    "</div>       "
   ]
  },
  {
   "cell_type": "markdown",
   "id": "b265306d",
   "metadata": {},
   "source": [
    "<div id=\"sec_t1\" style=\"direction:rtl;line-height:300%;\">\n",
    "        <img src=\"./images/220px-Dijkstra_Animation.gif\" style=\"float:center\"/>\n",
    "</div>"
   ]
  },
  {
   "cell_type": "markdown",
   "id": "481b927c",
   "metadata": {},
   "source": [
    "<div id=\"sec_intro\" style=\"direction:rtl;line-height:300%;\">\n",
    "\t<font face=\"XB Zar\" size=5 color=\"red\">\n",
    "تحلیل پیچیدگی زمانی(بیشتر بدانید): \n",
    "    </font> \n",
    "</div>  <div id=\"sec_intro\" style=\"direction:rtl;line-height:300%;\">\n",
    "\t<font face=\"XB Zar\" size=4>\n",
    "در صورت استفاده از داده‌ساختار هرم، پیچیدگی زمانی این الگوریتم می‌تواند به $O(m*log(n))$ برسد. برای آشنایی با داده‌ساختار هرم (Heap)  و انواع آن می‌توانید به\n",
    "        این <a href=http://www.algorithmha.ir/%D8%AF%D8%B1%D8%AE%D8%AA-%D9%87%DB%8C%D9%BE/#%D8%AF%D8%B1%D8%AE%D8%AA_Heap>لینک</a>\n",
    "        مراجعه کنید.\n",
    "        <a>\n",
    "    </font>\n",
    "</div> \n"
   ]
  },
  {
   "cell_type": "markdown",
   "id": "86adc58c",
   "metadata": {},
   "source": [
    "</div>  <div id=\"sec_intro\" style=\"direction:rtl;line-height:300%;\">\n",
    "\t<font face=\"XB Zar\" size=4>\n",
    "        شبه کد این الگوریتم را در زیر مشاهده می‌کنید. در ادامه می‌توانید سعی کنید کد پایتون الگوریتم را هم پیاده‌سازی کنید.\n",
    "    </font>\n",
    "</div> "
   ]
  },
  {
   "cell_type": "markdown",
   "id": "f5dbc040",
   "metadata": {},
   "source": [
    "<div id=\"sec_intro\" style=\"direction:ltr;line-height:200%;\">\n",
    "<font face=\"XB Zar\" size=4>\n",
    "        <pre>\n",
    " function Dijkstra(Graph, v): \n",
    " \tfor each vertex vert in Graph.Vertices:\n",
    "        dist[vert] ← INFINITY\n",
    "        add vert to Q\n",
    "        dist[v] ← 0    \n",
    "        while Q is not empty:\n",
    "            s ← vertex in Q with min dist[s]\n",
    "            remove s from Q\n",
    "            for each neighbor u of s still in Q:\n",
    "                alt ← dist[s] + Graph.Edges(s, u)\n",
    "                if alt < dist[u] and dist[s] is not INFINITY:\n",
    "                    dist[u] ← alt\n",
    "    return dist[]\n",
    "        </pre>\n",
    "    </font>\n",
    "</div>  "
   ]
  },
  {
   "cell_type": "code",
   "execution_count": 1,
   "id": "7c7dc888",
   "metadata": {},
   "outputs": [],
   "source": [
    "### your code goes here"
   ]
  },
  {
   "cell_type": "markdown",
   "id": "abff8a8d",
   "metadata": {},
   "source": [
    "<div id=\"sec_intro\" style=\"direction:rtl;line-height:300%;\">\n",
    "\t<font face=\"XB Zar\" size=4>\n",
    "همانطور که پیش‌تر گفته شد، در این الگوریتم، فرض بر این است که با اضافه شدن یک یال به مسیر، طول آن بیشتر می‌شود. بنابراین اگر گراف یال با وزن منفی داشته باشد، این فرض نقض شده و الگوریتم برای چنین گرافی قابل اجرا نیست.\n",
    "        <br>\n",
    "برای مثال گراف زیر را در نظر بگیرید:\n",
    "    </font>\n",
    "</div>       "
   ]
  },
  {
   "cell_type": "markdown",
   "id": "2eca234b",
   "metadata": {},
   "source": [
    "<div id=\"sec_t1\" style=\"direction:rtl;line-height:300%;\">\n",
    "        <img src=\"./images/GlrNb.png\" style=\"float:center\"/>\n",
    "</div>"
   ]
  },
  {
   "cell_type": "markdown",
   "id": "0e3c3ec7",
   "metadata": {},
   "source": [
    "<div id=\"sec_intro\" style=\"direction:rtl;line-height:300%;\">\n",
    "\t<font face=\"XB Zar\" size=4>\n",
    "در صورت استفاده از الگوریتم دایکسترا، مسیری که از راس T به راس S پیدا می‌شود، مسیر گذرنده از یال‌های به وزن ۲- و ۵ خواهد بود که مجموع وزن مسیر را ۳ محاسبه می‌کنند. اما به وضوح اگر از مسیر گذرنده از یال‌های با وزن ۳، ۱ و ۳- استفاده می‌کردیم، طول مسیر ۱ می‌شد که عدد مطلوب‌تری است.\n",
    "        <br>\n",
    "بنابراین برای پیدا کردن کوتاه‌ترین مسیر در چنین گرافی، نیاز به الگوریتم‌های دیگری است.\n",
    "    </font>\n",
    "</div>       "
   ]
  },
  {
   "cell_type": "markdown",
   "id": "c7d98672",
   "metadata": {},
   "source": [
    "<div id=\"sec_intro\" style=\"direction:rtl;line-height:300%;\">\n",
    "\t<font face=\"XB Zar\" size=6 color=\"blue\">\n",
    "الگوریتم فلوید-وارشال (Floyd-Warshall):\n",
    "    </font>\n",
    "</div>  "
   ]
  },
  {
   "cell_type": "markdown",
   "id": "14317ed6",
   "metadata": {},
   "source": [
    "<div id=\"sec_intro\" style=\"direction:rtl;line-height:300%;\">\n",
    "\t<font face=\"XB Zar\" size=4>\n",
    "این الگوریتم پیدا کردن کوتاه‌ترین مسیر، بر خلاف الگوریتم دایکسترا برای گراف‌هایی که یال با وزن منفی داشته باشند هم می‌تواند مورد استفاده قرار بگیرد، اما در صورتی که گراف دور با طول منفی نداشته باشد. این روش، کوتاه‌ترین مسیر بین هر دو راسی از گراف را با یک بار اجرا به دست می‌آورد.\n",
    "    </font>\n",
    "</div>       "
   ]
  },
  {
   "cell_type": "markdown",
   "id": "6c1a3c8f",
   "metadata": {},
   "source": [
    "<div id=\"sec_intro\" style=\"direction:rtl;line-height:300%;\">\n",
    "\t<font face=\"XB Zar\" size=4>\n",
    "آرایه دو بعدی $dist$ را در نظر بگیرید که در آن، $dist[i][j]$ نشان‌دهنده فاصله بین راس i ام و j ام گراف است. در ابتدا مقدار تمام خانه‌های این آرایه دو بعدی را که در آن‌ها $i \\neq j$ است مساوی با $\\infty$ قرار داده و مقدار خانه‌هایی که $i = j$ دارند مساوی 0  می‌گذاریم.\n",
    "<br>\n",
    "این الگوریتم به ازای هر دو راس i , j، تمام رئوس دیگر گراف را تک به تک به عنوان راس سوم k در نظر می‌گیرد و بررسی می‌کند که اگر مسیر بین راس i , j را گذرنده از راس k تعریف کنیم، طول این مسیر کمتر می‌شود یا خیر، و اگر این مسیر کوتاه‌تر از مسیر فعلی بود، از اینجا به بعد آن را به عنوان کوتاه‌ترین مسیر در نظر می‌گیرد. بنابراین هرجا که $dist[i][k] + dist[k][j] < dist[i][j]$ بود، $dist[i][j]$ را مساوی $dist[i][k] + dist[k][j]$ قرار می‌دهد.    </font>\n",
    "</div>       "
   ]
  },
  {
   "cell_type": "markdown",
   "id": "6505d714",
   "metadata": {},
   "source": [
    "<div id=\"sec_intro\" style=\"direction:rtl;line-height:300%;\">\n",
    "\t<font face=\"XB Zar\" size=4>\n",
    " شبه کد این الگوریتم را می‌توانید در زیر ببینید و سعی کنید کد پایتون آن را بنویسید.\n",
    "    </font>\n",
    "</div>       "
   ]
  },
  {
   "cell_type": "markdown",
   "id": "98b4608f",
   "metadata": {},
   "source": [
    "<div id=\"sec_intro\" style=\"direction:ltr;line-height:200%;\">\n",
    "<font face=\"XB Zar\" size=4>\n",
    "        <pre>\n",
    "for k = 1 to n\n",
    "    for i = 1 to n\n",
    "        for j = 1 to n\n",
    "            dist[i][j] = min(dist[i][j], dist[i][k] + dist[k][j])\n",
    "return dist\n",
    "        </pre>\n",
    "    </font>\n",
    "</div>  "
   ]
  },
  {
   "cell_type": "code",
   "execution_count": 1,
   "id": "411ee566",
   "metadata": {},
   "outputs": [],
   "source": [
    "### your code goes here"
   ]
  },
  {
   "cell_type": "markdown",
   "id": "7fa47c56",
   "metadata": {},
   "source": [
    "<div id=\"sec_intro\" style=\"direction:rtl;line-height:300%;\">\n",
    "\t<font face=\"XB Zar\" size=4>\n",
    "یک نمونه پیاده‌سازی این الگوریتم روی گراف زیر قابل مشاهده است:\n",
    "    </font>\n",
    "</div>       "
   ]
  },
  {
   "cell_type": "markdown",
   "id": "1eb712fa",
   "metadata": {},
   "source": [
    "<div id=\"sec_t1\" style=\"direction:rtl;line-height:300%;\">\n",
    "        <img src=\"./images/floyd-warshall_example.svg.png\" style=\"float:center\"/>\n",
    "</div>"
   ]
  }
 ],
 "metadata": {
  "kernelspec": {
   "display_name": "Python 3 (ipykernel)",
   "language": "python",
   "name": "python3"
  },
  "language_info": {
   "codemirror_mode": {
    "name": "ipython",
    "version": 3
   },
   "file_extension": ".py",
   "mimetype": "text/x-python",
   "name": "python",
   "nbconvert_exporter": "python",
   "pygments_lexer": "ipython3",
   "version": "3.10.4"
  }
 },
 "nbformat": 4,
 "nbformat_minor": 5
}
